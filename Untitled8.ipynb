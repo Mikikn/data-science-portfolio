{
  "nbformat": 4,
  "nbformat_minor": 0,
  "metadata": {
    "colab": {
      "provenance": [],
      "mount_file_id": "1mAKdwZB3IciSEDD6tFSOslwswOrZap8M",
      "authorship_tag": "ABX9TyOAR1cdCsiYkUZjO2tDY5Zp",
      "include_colab_link": true
    },
    "kernelspec": {
      "name": "python3",
      "display_name": "Python 3"
    },
    "language_info": {
      "name": "python"
    }
  },
  "cells": [
    {
      "cell_type": "markdown",
      "metadata": {
        "id": "view-in-github",
        "colab_type": "text"
      },
      "source": [
        "<a href=\"https://colab.research.google.com/github/Mikikn/data-science-portfolio/blob/main/Untitled8.ipynb\" target=\"_parent\"><img src=\"https://colab.research.google.com/assets/colab-badge.svg\" alt=\"Open In Colab\"/></a>"
      ]
    },
    {
      "cell_type": "code",
      "execution_count": null,
      "metadata": {
        "id": "Io1L34BoQcMk"
      },
      "outputs": [],
      "source": [
        "\n",
        "!pip install powerbiclient\n",
        "from powerbiclient import Report, models\n",
        "from powerbiclient.authentication import DeviceCodeLoginAuthentication\n",
        "import pandas as pd\n"
      ]
    },
    {
      "cell_type": "code",
      "source": [
        "import pandas as pd\n",
        "\n",
        "# Define the URLs of the CSV files\n",
        "urls = [\n",
        "    \"https://gender-pay-gap.service.gov.uk/viewing/download-data/2017-to-2018\",\n",
        "    \"https://gender-pay-gap.service.gov.uk/viewing/download-data/2018-to-2019\",\n",
        "    \"https://gender-pay-gap.service.gov.uk/viewing/download-data/2019-to-2020\",\n",
        "    \"https://gender-pay-gap.service.gov.uk/viewing/download-data/2020-to-2021\",\n",
        "    \"https://gender-pay-gap.service.gov.uk/viewing/download-data/2021-to-2022\",\n",
        "    \"https://gender-pay-gap.service.gov.uk/viewing/download-data/2022-to-2023\"\n",
        "]\n",
        "\n",
        "# Initialize an empty list to hold DataFrames\n",
        "dfs = []\n",
        "\n",
        "# Load and process each CSV file\n",
        "for file_path in file_paths:\n",
        "    # Load CSV\n",
        "    df = pd.read_csv(file_path)\n",
        "\n",
        "    # Extract the year range from the file name\n",
        "    year_range = file_path.split('-')[-1].split('.')[0].strip()\n",
        "\n",
        "    # Split the range to get start and end years\n",
        "    start_year, end_year = map(int, year_range.split(' to '))\n",
        "\n",
        "    # Add a 'Year' column with the start year\n",
        "    df['Year'] = start_year\n",
        "\n",
        "    # Append the DataFrame to the list\n",
        "    dfs.append(df)\n",
        "\n",
        "# Concatenate all DataFrames\n",
        "combined_data = pd.concat(dfs, ignore_index=True)\n",
        "\n"
      ],
      "metadata": {
        "id": "0_akR2-zkO70"
      },
      "execution_count": 54,
      "outputs": []
    },
    {
      "cell_type": "code",
      "source": [
        "combined_data.info()"
      ],
      "metadata": {
        "colab": {
          "base_uri": "https://localhost:8080/"
        },
        "id": "uClWKYQ5jrc6",
        "outputId": "9456b22a-7706-4e6a-bae1-700c27537d5e"
      },
      "execution_count": 55,
      "outputs": [
        {
          "output_type": "stream",
          "name": "stdout",
          "text": [
            "<class 'pandas.core.frame.DataFrame'>\n",
            "RangeIndex: 59096 entries, 0 to 59095\n",
            "Data columns (total 28 columns):\n",
            " #   Column                     Non-Null Count  Dtype  \n",
            "---  ------                     --------------  -----  \n",
            " 0   EmployerName               59096 non-null  object \n",
            " 1   EmployerId                 59096 non-null  int64  \n",
            " 2   Address                    59038 non-null  object \n",
            " 3   PostCode                   58867 non-null  object \n",
            " 4   CompanyNumber              51340 non-null  object \n",
            " 5   SicCodes                   55403 non-null  object \n",
            " 6   DiffMeanHourlyPercent      59096 non-null  float64\n",
            " 7   DiffMedianHourlyPercent    59096 non-null  float64\n",
            " 8   DiffMeanBonusPercent       47593 non-null  float64\n",
            " 9   DiffMedianBonusPercent     47591 non-null  float64\n",
            " 10  MaleBonusPercent           59096 non-null  float64\n",
            " 11  FemaleBonusPercent         59096 non-null  float64\n",
            " 12  MaleLowerQuartile          58702 non-null  float64\n",
            " 13  FemaleLowerQuartile        58702 non-null  float64\n",
            " 14  MaleLowerMiddleQuartile    58702 non-null  float64\n",
            " 15  FemaleLowerMiddleQuartile  58702 non-null  float64\n",
            " 16  MaleUpperMiddleQuartile    58702 non-null  float64\n",
            " 17  FemaleUpperMiddleQuartile  58702 non-null  float64\n",
            " 18  MaleTopQuartile            58702 non-null  float64\n",
            " 19  FemaleTopQuartile          58702 non-null  float64\n",
            " 20  CompanyLinkToGPGInfo       39325 non-null  object \n",
            " 21  ResponsiblePerson          48994 non-null  object \n",
            " 22  EmployerSize               59096 non-null  object \n",
            " 23  CurrentName                59096 non-null  object \n",
            " 24  SubmittedAfterTheDeadline  59096 non-null  bool   \n",
            " 25  DueDate                    59096 non-null  object \n",
            " 26  DateSubmitted              59096 non-null  object \n",
            " 27  Year                       59096 non-null  int64  \n",
            "dtypes: bool(1), float64(14), int64(2), object(11)\n",
            "memory usage: 12.2+ MB\n"
          ]
        }
      ]
    },
    {
      "cell_type": "code",
      "source": [
        "# Save DataFrame to CSV\n",
        "combined_data.to_csv('/content/drive/MyDrive/combined_data.csv', index=False)\n"
      ],
      "metadata": {
        "id": "AVB3clHvmoG6"
      },
      "execution_count": 57,
      "outputs": []
    },
    {
      "cell_type": "code",
      "source": [],
      "metadata": {
        "id": "nppFJUzk7H-3"
      },
      "execution_count": null,
      "outputs": []
    }
  ]
}